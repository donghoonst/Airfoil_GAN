{
 "cells": [
  {
   "cell_type": "code",
   "execution_count": null,
   "metadata": {},
   "outputs": [],
   "source": [
    "import pandas as pd\n",
    "import matplotlib.pyplot as plt\n",
    "import os\n",
    "import glob\n",
    "\n",
    "def read_csv_until_blank(file_path, skiprows):\n",
    "    data = []\n",
    "    with open(file_path, 'r') as file:\n",
    "        for i, line in enumerate(file):\n",
    "            if i < skiprows:\n",
    "                continue\n",
    "            if any(field.strip() == '' for field in line.split(',')):\n",
    "                break\n",
    "            data.append(line.strip().split(','))\n",
    "    return pd.DataFrame(data)\n",
    "\n",
    "# CSV 파일들이 있는 디렉토리 경로\n",
    "csv_folder = \"C:\\\\working_space\\\\airfoil_project\\\\airfoil\"\n",
    "\n",
    "# 디렉토리 내의 모든 CSV 파일 경로를 가져옴\n",
    "csv_files = glob.glob(os.path.join(csv_folder, \"*.csv\"))\n",
    "\n",
    "# 각 CSV 파일에 대해 반복\n",
    "for file in csv_files:\n",
    "    data = read_csv_until_blank(file, skiprows=9)\n",
    "    data.columns = [f'col_{i}' for i in range(data.shape[1])]  # 컬럼 이름 지정\n",
    "\n",
    "    x_input = data.iloc[:, 0].astype(float)\n",
    "    y_input = data.iloc[:, 1].astype(float)\n",
    "\n",
    "    plt.figure(figsize=(20, 5))\n",
    "\n",
    "    plt.axis('off')\n",
    "    plt.plot(x_input, y_input, c=\"black\")\n",
    "\n",
    "    # 확장자를 제거하고 파일 이름만 추출한 후 PNG 파일 이름 생성\n",
    "    output_file = os.path.splitext(file)[0] + '.png'\n",
    "    plt.savefig(output_file, bbox_inches='tight', pad_inches=0)\n",
    "    plt.close()  # plt.show() 대신 plt.close()를 사용하여 창을 닫음\n",
    "\n",
    "    print(f\"Saved plot to {output_file}\")\n"
   ]
  }
 ],
 "metadata": {
  "language_info": {
   "name": "python"
  }
 },
 "nbformat": 4,
 "nbformat_minor": 2
}
